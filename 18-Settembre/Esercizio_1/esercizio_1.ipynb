{
 "cells": [
  {
   "cell_type": "code",
   "execution_count": 1,
   "id": "64751c56",
   "metadata": {},
   "outputs": [],
   "source": [
    "import spacy"
   ]
  },
  {
   "cell_type": "code",
   "execution_count": 2,
   "id": "ceffe7cb",
   "metadata": {},
   "outputs": [],
   "source": [
    "nlp = spacy.load(\"it_core_news_sm\")"
   ]
  },
  {
   "cell_type": "code",
   "execution_count": 3,
   "id": "b09ab1c1",
   "metadata": {},
   "outputs": [],
   "source": [
    "testo = \"\"\"Ieri Marco Rossi è partito da Milano con un volo Alitalia diretto a New York, dove visiterà la sede delle Nazioni Unite e andrà al Metropolitan Museum of Art per vedere la collezione di dipinti di Van Gogh.\"\"\""
   ]
  },
  {
   "cell_type": "code",
   "execution_count": 4,
   "id": "c04999ae",
   "metadata": {},
   "outputs": [],
   "source": [
    "doc = nlp(testo)"
   ]
  },
  {
   "cell_type": "code",
   "execution_count": 5,
   "id": "f76adcb9",
   "metadata": {},
   "outputs": [
    {
     "name": "stdout",
     "output_type": "stream",
     "text": [
      "Token: Ieri         | Lemma: ieri         | POS: ADV        | Dipendenza: advmod     | Head: partito\n",
      "Token: Marco        | Lemma: Marco        | POS: PROPN      | Dipendenza: nsubj      | Head: partito\n",
      "Token: Rossi        | Lemma: Rossi        | POS: PROPN      | Dipendenza: flat:name  | Head: Marco\n",
      "Token: è            | Lemma: essere       | POS: AUX        | Dipendenza: aux        | Head: partito\n",
      "Token: partito      | Lemma: partire      | POS: VERB       | Dipendenza: ROOT       | Head: partito\n",
      "Token: da           | Lemma: da           | POS: ADP        | Dipendenza: case       | Head: Milano\n",
      "Token: Milano       | Lemma: Milano       | POS: PROPN      | Dipendenza: obl:agent  | Head: partito\n",
      "Token: con          | Lemma: con          | POS: ADP        | Dipendenza: case       | Head: Alitalia\n",
      "Token: un           | Lemma: uno          | POS: DET        | Dipendenza: det        | Head: Alitalia\n",
      "Token: volo         | Lemma: volo         | POS: NOUN       | Dipendenza: amod       | Head: Alitalia\n",
      "Token: Alitalia     | Lemma: Alitalia     | POS: NOUN       | Dipendenza: obl        | Head: partito\n",
      "Token: diretto      | Lemma: dirigere     | POS: VERB       | Dipendenza: acl        | Head: Alitalia\n",
      "Token: a            | Lemma: a            | POS: ADP        | Dipendenza: case       | Head: New\n",
      "Token: New          | Lemma: New          | POS: PROPN      | Dipendenza: obl        | Head: diretto\n",
      "Token: York         | Lemma: York         | POS: PROPN      | Dipendenza: flat:name  | Head: New\n",
      "Token: ,            | Lemma: ,            | POS: PUNCT      | Dipendenza: punct      | Head: Alitalia\n",
      "Token: dove         | Lemma: dove         | POS: ADV        | Dipendenza: advmod     | Head: visiterà\n",
      "Token: visiterà     | Lemma: visitare     | POS: VERB       | Dipendenza: acl:relcl  | Head: Alitalia\n",
      "Token: la           | Lemma: il           | POS: DET        | Dipendenza: det        | Head: sede\n",
      "Token: sede         | Lemma: sede         | POS: NOUN       | Dipendenza: nsubj      | Head: visiterà\n",
      "Token: delle        | Lemma: di il        | POS: ADP        | Dipendenza: case       | Head: Nazioni\n",
      "Token: Nazioni      | Lemma: Nazioni      | POS: PROPN      | Dipendenza: nmod       | Head: sede\n",
      "Token: Unite        | Lemma: Unite        | POS: PROPN      | Dipendenza: flat:name  | Head: Nazioni\n",
      "Token: e            | Lemma: e            | POS: CCONJ      | Dipendenza: cc         | Head: andrà\n",
      "Token: andrà        | Lemma: andare       | POS: VERB       | Dipendenza: conj       | Head: visiterà\n",
      "Token: al           | Lemma: a il         | POS: ADP        | Dipendenza: case       | Head: Metropolitan\n",
      "Token: Metropolitan | Lemma: Metropolitan | POS: PROPN      | Dipendenza: obl        | Head: andrà\n",
      "Token: Museum       | Lemma: Museum       | POS: PROPN      | Dipendenza: flat:name  | Head: Metropolitan\n",
      "Token: of           | Lemma: of           | POS: ADP        | Dipendenza: case       | Head: Art\n",
      "Token: Art          | Lemma: Art          | POS: PROPN      | Dipendenza: nmod       | Head: Metropolitan\n",
      "Token: per          | Lemma: per          | POS: ADP        | Dipendenza: mark       | Head: vedere\n",
      "Token: vedere       | Lemma: vedere       | POS: VERB       | Dipendenza: advcl      | Head: andrà\n",
      "Token: la           | Lemma: il           | POS: DET        | Dipendenza: det        | Head: collezione\n",
      "Token: collezione   | Lemma: collezione   | POS: NOUN       | Dipendenza: obj        | Head: vedere\n",
      "Token: di           | Lemma: di           | POS: ADP        | Dipendenza: case       | Head: dipinti\n",
      "Token: dipinti      | Lemma: dipinto      | POS: NOUN       | Dipendenza: nmod       | Head: collezione\n",
      "Token: di           | Lemma: di           | POS: ADP        | Dipendenza: case       | Head: Van\n",
      "Token: Van          | Lemma: Van          | POS: PROPN      | Dipendenza: nmod       | Head: dipinti\n",
      "Token: Gogh         | Lemma: Gogh         | POS: PROPN      | Dipendenza: flat:name  | Head: Van\n",
      "Token: .            | Lemma: .            | POS: PUNCT      | Dipendenza: punct      | Head: partito\n"
     ]
    }
   ],
   "source": [
    "for token in doc:\n",
    "    print(f\"Token: {token.text:12} | Lemma: {token.lemma_:12} | POS: {token.pos_:10} | Dipendenza: {token.dep_:10} | Head: {token.head.text}\")"
   ]
  }
 ],
 "metadata": {
  "kernelspec": {
   "display_name": ".venv",
   "language": "python",
   "name": "python3"
  },
  "language_info": {
   "codemirror_mode": {
    "name": "ipython",
    "version": 3
   },
   "file_extension": ".py",
   "mimetype": "text/x-python",
   "name": "python",
   "nbconvert_exporter": "python",
   "pygments_lexer": "ipython3",
   "version": "3.13.5"
  }
 },
 "nbformat": 4,
 "nbformat_minor": 5
}
